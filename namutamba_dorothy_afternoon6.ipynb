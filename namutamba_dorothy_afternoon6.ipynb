{
 "cells": [
  {
   "cell_type": "code",
   "execution_count": 1,
   "id": "d843c42b",
   "metadata": {},
   "outputs": [
    {
     "name": "stdout",
     "output_type": "stream",
     "text": [
      "Monday       2023-07-03\n",
      "Tuesday      2023-07-04\n",
      "Wednesday    2023-07-05\n",
      "Thursday     2023-07-06\n",
      "Friday       2023-07-07\n",
      "Saturday     2023-07-08\n",
      "Sunday       2023-07-09\n",
      "dtype: object\n"
     ]
    }
   ],
   "source": [
    "import pandas as pd\n",
    "\n",
    "# Dictionary of days and dates\n",
    "days_dates = {\n",
    "    \"Monday\": \"2023-07-03\",\n",
    "    \"Tuesday\": \"2023-07-04\",\n",
    "    \"Wednesday\": \"2023-07-05\",\n",
    "    \"Thursday\": \"2023-07-06\",\n",
    "    \"Friday\": \"2023-07-07\",\n",
    "    \"Saturday\": \"2023-07-08\",\n",
    "    \"Sunday\": \"2023-07-09\"\n",
    "}\n",
    "\n",
    "# Create a pandas Series from the dictionary\n",
    "series_days_dates = pd.Series(days_dates)\n",
    "\n",
    "# Display the pandas Series\n",
    "print(series_days_dates)\n"
   ]
  },
  {
   "cell_type": "code",
   "execution_count": null,
   "id": "c492e723",
   "metadata": {},
   "outputs": [],
   "source": []
  },
  {
   "cell_type": "code",
   "execution_count": 2,
   "id": "3f6b345a",
   "metadata": {},
   "outputs": [
    {
     "name": "stdout",
     "output_type": "stream",
     "text": [
      "Monday     2023-07-03\n",
      "Tuesday    2023-07-04\n",
      "dtype: object\n"
     ]
    }
   ],
   "source": [
    "import pandas as pd\n",
    "\n",
    "# Dictionary of days and dates\n",
    "days_dates = {\n",
    "    \"Monday\": \"2023-07-03\",\n",
    "    \"Tuesday\": \"2023-07-04\",\n",
    "    \"Wednesday\": \"2023-07-05\",\n",
    "    \"Thursday\": \"2023-07-06\",\n",
    "    \"Friday\": \"2023-07-07\",\n",
    "    \"Saturday\": \"2023-07-08\",\n",
    "    \"Sunday\": \"2023-07-09\"\n",
    "}\n",
    "\n",
    "# Filter the dictionary for Monday and Tuesday\n",
    "filtered_days_dates = {day: date for day, date in days_dates.items() if day in [\"Monday\", \"Tuesday\"]}\n",
    "\n",
    "# Create a pandas Series from the filtered dictionary\n",
    "series_days_dates = pd.Series(filtered_days_dates)\n",
    "\n",
    "# Display the pandas Series\n",
    "print(series_days_dates)\n"
   ]
  },
  {
   "cell_type": "code",
   "execution_count": 3,
   "id": "7155431b",
   "metadata": {},
   "outputs": [
    {
     "name": "stdout",
     "output_type": "stream",
     "text": [
      "        Country             President\n",
      "0       Nigeria      Muhammadu Buhari\n",
      "1  South Africa       Cyril Ramaphosa\n",
      "2         Egypt  Abdel Fattah el-Sisi\n",
      "3         Kenya        Uhuru Kenyatta\n",
      "4      Ethiopia      Sahle-Work Zewde\n",
      "5       Algeria  Abdelmadjid Tebboune\n"
     ]
    }
   ],
   "source": [
    "import pandas as pd\n",
    "\n",
    "# Dictionary of African countries and presidents\n",
    "african_countries = {\n",
    "    \"Nigeria\": \"Muhammadu Buhari\",\n",
    "    \"South Africa\": \"Cyril Ramaphosa\",\n",
    "    \"Egypt\": \"Abdel Fattah el-Sisi\",\n",
    "    \"Kenya\": \"Uhuru Kenyatta\",\n",
    "    \"Ethiopia\": \"Sahle-Work Zewde\",\n",
    "    \"Algeria\": \"Abdelmadjid Tebboune\"\n",
    "}\n",
    "\n",
    "# Create a DataFrame from the dictionary\n",
    "df_african = pd.DataFrame(list(african_countries.items()), columns=[\"Country\", \"President\"])\n",
    "\n",
    "# Display the DataFrame\n",
    "print(df_african)\n"
   ]
  },
  {
   "cell_type": "code",
   "execution_count": 4,
   "id": "1e6792af",
   "metadata": {},
   "outputs": [
    {
     "name": "stdout",
     "output_type": "stream",
     "text": [
      "                Country                         President\n",
      "0                 Egypt              Abdel Fattah el-Sisi\n",
      "1          Saudi Arabia      Salman bin Abdulaziz Al Saud\n",
      "2  United Arab Emirates       Khalifa bin Zayed Al Nahyan\n",
      "3                 Qatar          Tamim bin Hamad Al Thani\n",
      "4                Kuwait  Nawaf Al-Ahmad Al-Jaber Al-Sabah\n",
      "5                  Oman         Haitham bin Tariq Al Said\n"
     ]
    }
   ],
   "source": [
    "import pandas as pd\n",
    "\n",
    "# Dictionary of Arabic countries and presidents\n",
    "arabic_countries = {\n",
    "    \"Egypt\": \"Abdel Fattah el-Sisi\",\n",
    "    \"Saudi Arabia\": \"Salman bin Abdulaziz Al Saud\",\n",
    "    \"United Arab Emirates\": \"Khalifa bin Zayed Al Nahyan\",\n",
    "    \"Qatar\": \"Tamim bin Hamad Al Thani\",\n",
    "    \"Kuwait\": \"Nawaf Al-Ahmad Al-Jaber Al-Sabah\",\n",
    "    \"Oman\": \"Haitham bin Tariq Al Said\"\n",
    "}\n",
    "\n",
    "# Create a DataFrame from the dictionary\n",
    "df_arabic = pd.DataFrame(list(arabic_countries.items()), columns=[\"Country\", \"President\"])\n",
    "\n",
    "# Display the DataFrame\n",
    "print(df_arabic)\n"
   ]
  },
  {
   "cell_type": "code",
   "execution_count": 5,
   "id": "5d39a29a",
   "metadata": {},
   "outputs": [
    {
     "name": "stdout",
     "output_type": "stream",
     "text": [
      "       Day        Date\n",
      "0   Monday  2023-07-03\n",
      "1  Tuesday  2023-07-04\n"
     ]
    }
   ],
   "source": [
    "import pandas as pd\n",
    "\n",
    "# Dictionary of days and dates\n",
    "days_dates = {\n",
    "    \"Monday\": \"2023-07-03\",\n",
    "    \"Tuesday\": \"2023-07-04\",\n",
    "    \"Wednesday\": \"2023-07-05\",\n",
    "    \"Thursday\": \"2023-07-06\",\n",
    "    \"Friday\": \"2023-07-07\",\n",
    "    \"Saturday\": \"2023-07-08\",\n",
    "    \"Sunday\": \"2023-07-09\"\n",
    "}\n",
    "\n",
    "# Filter the dictionary for Monday and Tuesday\n",
    "filtered_days_dates = {day: date for day, date in days_dates.items() if day in [\"Monday\", \"Tuesday\"]}\n",
    "\n",
    "# Create a DataFrame from the filtered dictionary\n",
    "df_days_dates = pd.DataFrame(list(filtered_days_dates.items()), columns=[\"Day\", \"Date\"])\n",
    "\n",
    "# Display the DataFrame\n",
    "print(df_days_dates)\n"
   ]
  },
  {
   "cell_type": "code",
   "execution_count": 1,
   "id": "c6831d59",
   "metadata": {},
   "outputs": [],
   "source": [
    "###Analysing and cleaning data"
   ]
  },
  {
   "cell_type": "code",
   "execution_count": 10,
   "id": "c7d33bb6",
   "metadata": {},
   "outputs": [
    {
     "data": {
      "text/html": [
       "<div>\n",
       "<style scoped>\n",
       "    .dataframe tbody tr th:only-of-type {\n",
       "        vertical-align: middle;\n",
       "    }\n",
       "\n",
       "    .dataframe tbody tr th {\n",
       "        vertical-align: top;\n",
       "    }\n",
       "\n",
       "    .dataframe thead th {\n",
       "        text-align: right;\n",
       "    }\n",
       "</style>\n",
       "<table border=\"1\" class=\"dataframe\">\n",
       "  <thead>\n",
       "    <tr style=\"text-align: right;\">\n",
       "      <th></th>\n",
       "      <th>Duration</th>\n",
       "      <th>Pulse</th>\n",
       "      <th>Maxpulse</th>\n",
       "      <th>Calories</th>\n",
       "    </tr>\n",
       "  </thead>\n",
       "  <tbody>\n",
       "    <tr>\n",
       "      <th>0</th>\n",
       "      <td>60</td>\n",
       "      <td>110</td>\n",
       "      <td>130</td>\n",
       "      <td>409.1</td>\n",
       "    </tr>\n",
       "    <tr>\n",
       "      <th>1</th>\n",
       "      <td>60</td>\n",
       "      <td>117</td>\n",
       "      <td>145</td>\n",
       "      <td>479.0</td>\n",
       "    </tr>\n",
       "    <tr>\n",
       "      <th>2</th>\n",
       "      <td>60</td>\n",
       "      <td>103</td>\n",
       "      <td>135</td>\n",
       "      <td>340.0</td>\n",
       "    </tr>\n",
       "    <tr>\n",
       "      <th>3</th>\n",
       "      <td>45</td>\n",
       "      <td>109</td>\n",
       "      <td>175</td>\n",
       "      <td>282.4</td>\n",
       "    </tr>\n",
       "    <tr>\n",
       "      <th>4</th>\n",
       "      <td>45</td>\n",
       "      <td>117</td>\n",
       "      <td>148</td>\n",
       "      <td>406.0</td>\n",
       "    </tr>\n",
       "    <tr>\n",
       "      <th>...</th>\n",
       "      <td>...</td>\n",
       "      <td>...</td>\n",
       "      <td>...</td>\n",
       "      <td>...</td>\n",
       "    </tr>\n",
       "    <tr>\n",
       "      <th>164</th>\n",
       "      <td>60</td>\n",
       "      <td>105</td>\n",
       "      <td>140</td>\n",
       "      <td>290.8</td>\n",
       "    </tr>\n",
       "    <tr>\n",
       "      <th>165</th>\n",
       "      <td>60</td>\n",
       "      <td>110</td>\n",
       "      <td>145</td>\n",
       "      <td>300.0</td>\n",
       "    </tr>\n",
       "    <tr>\n",
       "      <th>166</th>\n",
       "      <td>60</td>\n",
       "      <td>115</td>\n",
       "      <td>145</td>\n",
       "      <td>310.2</td>\n",
       "    </tr>\n",
       "    <tr>\n",
       "      <th>167</th>\n",
       "      <td>75</td>\n",
       "      <td>120</td>\n",
       "      <td>150</td>\n",
       "      <td>320.4</td>\n",
       "    </tr>\n",
       "    <tr>\n",
       "      <th>168</th>\n",
       "      <td>75</td>\n",
       "      <td>125</td>\n",
       "      <td>150</td>\n",
       "      <td>330.4</td>\n",
       "    </tr>\n",
       "  </tbody>\n",
       "</table>\n",
       "<p>169 rows × 4 columns</p>\n",
       "</div>"
      ],
      "text/plain": [
       "     Duration  Pulse  Maxpulse  Calories\n",
       "0          60    110       130     409.1\n",
       "1          60    117       145     479.0\n",
       "2          60    103       135     340.0\n",
       "3          45    109       175     282.4\n",
       "4          45    117       148     406.0\n",
       "..        ...    ...       ...       ...\n",
       "164        60    105       140     290.8\n",
       "165        60    110       145     300.0\n",
       "166        60    115       145     310.2\n",
       "167        75    120       150     320.4\n",
       "168        75    125       150     330.4\n",
       "\n",
       "[169 rows x 4 columns]"
      ]
     },
     "execution_count": 10,
     "metadata": {},
     "output_type": "execute_result"
    }
   ],
   "source": [
    "import pandas as pd\n",
    "mine = pd.read_csv('https://raw.githubusercontent.com/techymaj/recess-2/main/Exercise%20Python/mine.csv')\n",
    "mine"
   ]
  },
  {
   "cell_type": "code",
   "execution_count": 11,
   "id": "17d6b4be",
   "metadata": {},
   "outputs": [
    {
     "name": "stdout",
     "output_type": "stream",
     "text": [
      "   Duration  Pulse  Maxpulse  Calories\n",
      "0        60    110       130     409.1\n",
      "1        60    117       145     479.0\n",
      "2        60    103       135     340.0\n",
      "3        45    109       175     282.4\n",
      "4        45    117       148     406.0\n"
     ]
    }
   ],
   "source": [
    "###using head() method to display the first few rows of the DataFrame\n",
    "print(mine.head())\n"
   ]
  },
  {
   "cell_type": "code",
   "execution_count": 12,
   "id": "2d6e73f7",
   "metadata": {},
   "outputs": [
    {
     "name": "stdout",
     "output_type": "stream",
     "text": [
      "     Duration  Pulse  Maxpulse  Calories\n",
      "164        60    105       140     290.8\n",
      "165        60    110       145     300.0\n",
      "166        60    115       145     310.2\n",
      "167        75    120       150     320.4\n",
      "168        75    125       150     330.4\n"
     ]
    }
   ],
   "source": [
    "###Using the tail() method to display the last few rows of the dataframe\n",
    "print(mine.tail())"
   ]
  },
  {
   "cell_type": "code",
   "execution_count": 13,
   "id": "70e95b93",
   "metadata": {},
   "outputs": [
    {
     "name": "stdout",
     "output_type": "stream",
     "text": [
      "<class 'pandas.core.frame.DataFrame'>\n",
      "RangeIndex: 169 entries, 0 to 168\n",
      "Data columns (total 4 columns):\n",
      " #   Column    Non-Null Count  Dtype  \n",
      "---  ------    --------------  -----  \n",
      " 0   Duration  169 non-null    int64  \n",
      " 1   Pulse     169 non-null    int64  \n",
      " 2   Maxpulse  169 non-null    int64  \n",
      " 3   Calories  164 non-null    float64\n",
      "dtypes: float64(1), int64(3)\n",
      "memory usage: 5.4 KB\n",
      "None\n"
     ]
    }
   ],
   "source": [
    "###using the the info() method method to get information about the DataFrame, including column names, data types, and non-null counts\n",
    "print(mine.info())"
   ]
  },
  {
   "cell_type": "code",
   "execution_count": 19,
   "id": "9e7b690c",
   "metadata": {},
   "outputs": [
    {
     "name": "stdout",
     "output_type": "stream",
     "text": [
      "Before dropna:\n",
      "     Duration  Pulse  Maxpulse  Calories\n",
      "0          60    110       130     409.1\n",
      "1          60    117       145     479.0\n",
      "2          60    103       135     340.0\n",
      "3          45    109       175     282.4\n",
      "4          45    117       148     406.0\n",
      "..        ...    ...       ...       ...\n",
      "164        60    105       140     290.8\n",
      "165        60    110       145     300.0\n",
      "166        60    115       145     310.2\n",
      "167        75    120       150     320.4\n",
      "168        75    125       150     330.4\n",
      "\n",
      "[164 rows x 4 columns]\n",
      "After dropna:\n",
      "     Duration  Pulse  Maxpulse  Calories\n",
      "0          60    110       130     409.1\n",
      "1          60    117       145     479.0\n",
      "2          60    103       135     340.0\n",
      "3          45    109       175     282.4\n",
      "4          45    117       148     406.0\n",
      "..        ...    ...       ...       ...\n",
      "164        60    105       140     290.8\n",
      "165        60    110       145     300.0\n",
      "166        60    115       145     310.2\n",
      "167        75    120       150     320.4\n",
      "168        75    125       150     330.4\n",
      "\n",
      "[164 rows x 4 columns]\n",
      "0 rows were dropped due to missing values.\n"
     ]
    }
   ],
   "source": [
    "print(\"Before dropna:\")\n",
    "print(mine)\n",
    "\n",
    "initial_rows = len(mine)\n",
    "\n",
    "mine.dropna(inplace=True)\n",
    "\n",
    "print(\"After dropna:\")\n",
    "print(mine)\n",
    "\n",
    "final_rows = len(mine)\n",
    "rows_dropped = initial_rows - final_rows\n",
    "print(f\"{rows_dropped} rows were dropped due to missing values.\")\n"
   ]
  },
  {
   "cell_type": "code",
   "execution_count": 20,
   "id": "3acd4993",
   "metadata": {},
   "outputs": [
    {
     "name": "stdout",
     "output_type": "stream",
     "text": [
      "Before fillna:\n",
      "     Duration  Pulse  Maxpulse  Calories\n",
      "0          60    110       130     409.1\n",
      "1          60    117       145     479.0\n",
      "2          60    103       135     340.0\n",
      "3          45    109       175     282.4\n",
      "4          45    117       148     406.0\n",
      "..        ...    ...       ...       ...\n",
      "164        60    105       140     290.8\n",
      "165        60    110       145     300.0\n",
      "166        60    115       145     310.2\n",
      "167        75    120       150     320.4\n",
      "168        75    125       150     330.4\n",
      "\n",
      "[164 rows x 4 columns]\n",
      "After fillna:\n",
      "     Duration  Pulse  Maxpulse  Calories\n",
      "0          60    110       130     409.1\n",
      "1          60    117       145     479.0\n",
      "2          60    103       135     340.0\n",
      "3          45    109       175     282.4\n",
      "4          45    117       148     406.0\n",
      "..        ...    ...       ...       ...\n",
      "164        60    105       140     290.8\n",
      "165        60    110       145     300.0\n",
      "166        60    115       145     310.2\n",
      "167        75    120       150     320.4\n",
      "168        75    125       150     330.4\n",
      "\n",
      "[164 rows x 4 columns]\n",
      "Missing values in 'Calories' were filled with the mean value.\n"
     ]
    }
   ],
   "source": [
    "#Using the fillna() method\n",
    "print(\"Before fillna:\")\n",
    "print(mine)\n",
    "\n",
    "mean_calories = mine['Calories'].mean()\n",
    "mine['Calories'].fillna(mean_calories, inplace=True)\n",
    "\n",
    "print(\"After fillna:\")\n",
    "print(mine)\n",
    "\n",
    "print(\"Missing values in 'Calories' were filled with the mean value.\")\n"
   ]
  },
  {
   "cell_type": "code",
   "execution_count": 22,
   "id": "34ccc24e",
   "metadata": {},
   "outputs": [
    {
     "name": "stdout",
     "output_type": "stream",
     "text": [
      "Cleaned DataFrame:\n",
      "     Duration  Pulse  Maxpulse  Calories\n",
      "0          60    110       130     409.1\n",
      "1          60    117       145     479.0\n",
      "2          60    103       135     340.0\n",
      "3          45    109       175     282.4\n",
      "4          45    117       148     406.0\n",
      "..        ...    ...       ...       ...\n",
      "164        60    105       140     290.8\n",
      "165        60    110       145     300.0\n",
      "166        60    115       145     310.2\n",
      "167        75    120       150     320.4\n",
      "168        75    125       150     330.4\n",
      "\n",
      "[164 rows x 4 columns]\n"
     ]
    }
   ],
   "source": [
    "###Remove wrong data from the dataframe\n",
    "\n",
    "import pandas as pd\n",
    "\n",
    "# Load the CSV file from the URL\n",
    "mine = pd.read_csv('https://raw.githubusercontent.com/techymaj/recess-2/main/Exercise%20Python/mine.csv')\n",
    "\n",
    "# Define conditions to filter wrong data\n",
    "duration_condition = (mine['Duration'] >= 0)\n",
    "pulse_condition = (mine['Pulse'] >= 0)\n",
    "maxpulse_condition = (mine['Maxpulse'] >= 0)\n",
    "calories_condition = (mine['Calories'] >= 0)\n",
    "\n",
    "# Filter the DataFrame based on the conditions\n",
    "mine = mine[duration_condition & pulse_condition & maxpulse_condition & calories_condition]\n",
    "\n",
    "# Display the cleaned DataFrame\n",
    "print(\"Cleaned DataFrame:\")\n",
    "print(mine)\n"
   ]
  },
  {
   "cell_type": "code",
   "execution_count": 23,
   "id": "23c5f574",
   "metadata": {},
   "outputs": [
    {
     "name": "stdout",
     "output_type": "stream",
     "text": [
      "Cleaned DataFrame:\n",
      "     Duration  Pulse  Maxpulse  Calories\n",
      "0          60    110       130     409.1\n",
      "1          60    117       145     479.0\n",
      "2          60    103       135     340.0\n",
      "3          45    109       175     282.4\n",
      "4          45    117       148     406.0\n",
      "..        ...    ...       ...       ...\n",
      "164        60    105       140     290.8\n",
      "165        60    110       145     300.0\n",
      "166        60    115       145     310.2\n",
      "167        75    120       150     320.4\n",
      "168        75    125       150     330.4\n",
      "\n",
      "[164 rows x 4 columns]\n"
     ]
    }
   ],
   "source": [
    "import pandas as pd\n",
    "\n",
    "\n",
    "# Convert the 'Duration', 'Pulse', 'Maxpulse', and 'Calories' columns to the correct format\n",
    "mine['Duration'] = pd.to_numeric(mine['Duration'], errors='coerce')\n",
    "mine['Pulse'] = pd.to_numeric(mine['Pulse'], errors='coerce')\n",
    "mine['Maxpulse'] = pd.to_numeric(mine['Maxpulse'], errors='coerce')\n",
    "mine['Calories'] = pd.to_numeric(mine['Calories'], errors='coerce')\n",
    "\n",
    "# Remove rows with wrong formats\n",
    "mine.dropna(subset=['Duration', 'Pulse', 'Maxpulse', 'Calories'], inplace=True)\n",
    "\n",
    "# Display the cleaned DataFrame\n",
    "print(\"Cleaned DataFrame:\")\n",
    "print(mine)\n"
   ]
  },
  {
   "cell_type": "code",
   "execution_count": 24,
   "id": "46b57a67",
   "metadata": {},
   "outputs": [
    {
     "name": "stdout",
     "output_type": "stream",
     "text": [
      "Cleaned DataFrame:\n",
      "     Duration  Pulse  Maxpulse  Calories\n",
      "0          60    110       130     409.1\n",
      "1          60    117       145     479.0\n",
      "2          60    103       135     340.0\n",
      "3          45    109       175     282.4\n",
      "4          45    117       148     406.0\n",
      "..        ...    ...       ...       ...\n",
      "164        60    105       140     290.8\n",
      "165        60    110       145     300.0\n",
      "166        60    115       145     310.2\n",
      "167        75    120       150     320.4\n",
      "168        75    125       150     330.4\n",
      "\n",
      "[157 rows x 4 columns]\n"
     ]
    }
   ],
   "source": [
    "import pandas as pd\n",
    "\n",
    "# Remove duplicates\n",
    "mine.drop_duplicates(inplace=True)\n",
    "\n",
    "# Display the cleaned DataFrame\n",
    "print(\"Cleaned DataFrame:\")\n",
    "print(mine)\n"
   ]
  },
  {
   "cell_type": "code",
   "execution_count": 25,
   "id": "02739a2e",
   "metadata": {},
   "outputs": [
    {
     "name": "stdout",
     "output_type": "stream",
     "text": [
      "Correlation Matrix:\n",
      "          Duration     Pulse  Maxpulse  Calories\n",
      "Duration  1.000000 -0.167770 -0.000501  0.923053\n",
      "Pulse    -0.167770  1.000000  0.784994  0.015301\n",
      "Maxpulse -0.000501  0.784994  1.000000  0.195309\n",
      "Calories  0.923053  0.015301  0.195309  1.000000\n"
     ]
    }
   ],
   "source": [
    "# Perform correlation analysis\n",
    "correlation_matrix = mine.corr()\n",
    "\n",
    "# Display the correlation matrix\n",
    "print(\"Correlation Matrix:\")\n",
    "print(correlation_matrix)"
   ]
  },
  {
   "cell_type": "code",
   "execution_count": 27,
   "id": "c008127e",
   "metadata": {},
   "outputs": [],
   "source": [
    "#Aalyzing the work.csv file\n"
   ]
  },
  {
   "cell_type": "code",
   "execution_count": 28,
   "id": "7d03473e",
   "metadata": {},
   "outputs": [
    {
     "name": "stdout",
     "output_type": "stream",
     "text": [
      "     Name         city    age py-score\n",
      "0    Emma      Kampala     23       90\n",
      "1  Wilber        Mbale     26       75\n",
      "2   Robin         Gulu     25     mine\n",
      "3   Tevor  Livingstone    NaN       89\n",
      "4    Yeko       Tororo     20       94\n",
      "5  Miriam         Arua  Train      NaN\n",
      "6   Jesca      Mbarara     21       84\n"
     ]
    }
   ],
   "source": [
    "import pandas as pd\n",
    "\n",
    "# Load the CSV file from the URL\n",
    "work = pd.read_csv('https://raw.githubusercontent.com/techymaj/recess-2/main/Exercise%20Python/Work.csv')\n",
    "\n",
    "# Display the DataFrame\n",
    "print(work)\n"
   ]
  },
  {
   "cell_type": "code",
   "execution_count": 29,
   "id": "e2f34070",
   "metadata": {},
   "outputs": [
    {
     "name": "stdout",
     "output_type": "stream",
     "text": [
      "     Name         city  age py-score\n",
      "0    Emma      Kampala   23       90\n",
      "1  Wilber        Mbale   26       75\n",
      "2   Robin         Gulu   25     mine\n",
      "3   Tevor  Livingstone  NaN       89\n",
      "4    Yeko       Tororo   20       94\n"
     ]
    }
   ],
   "source": [
    "print(work.head())"
   ]
  },
  {
   "cell_type": "code",
   "execution_count": 30,
   "id": "46c76cf6",
   "metadata": {},
   "outputs": [
    {
     "name": "stdout",
     "output_type": "stream",
     "text": [
      "     Name         city    age py-score\n",
      "2   Robin         Gulu     25     mine\n",
      "3   Tevor  Livingstone    NaN       89\n",
      "4    Yeko       Tororo     20       94\n",
      "5  Miriam         Arua  Train      NaN\n",
      "6   Jesca      Mbarara     21       84\n"
     ]
    }
   ],
   "source": [
    "print(work.tail())"
   ]
  },
  {
   "cell_type": "code",
   "execution_count": 31,
   "id": "08824444",
   "metadata": {},
   "outputs": [
    {
     "name": "stdout",
     "output_type": "stream",
     "text": [
      "<class 'pandas.core.frame.DataFrame'>\n",
      "RangeIndex: 7 entries, 0 to 6\n",
      "Data columns (total 4 columns):\n",
      " #   Column    Non-Null Count  Dtype \n",
      "---  ------    --------------  ----- \n",
      " 0   Name      7 non-null      object\n",
      " 1   city      7 non-null      object\n",
      " 2   age       6 non-null      object\n",
      " 3   py-score  6 non-null      object\n",
      "dtypes: object(4)\n",
      "memory usage: 352.0+ bytes\n",
      "None\n"
     ]
    }
   ],
   "source": [
    "print(work.info())"
   ]
  },
  {
   "cell_type": "code",
   "execution_count": 32,
   "id": "3d0e6e49",
   "metadata": {},
   "outputs": [
    {
     "name": "stdout",
     "output_type": "stream",
     "text": [
      "Before dropna:\n",
      "     Name         city    age py-score\n",
      "0    Emma      Kampala     23       90\n",
      "1  Wilber        Mbale     26       75\n",
      "2   Robin         Gulu     25     mine\n",
      "3   Tevor  Livingstone    NaN       89\n",
      "4    Yeko       Tororo     20       94\n",
      "5  Miriam         Arua  Train      NaN\n",
      "6   Jesca      Mbarara     21       84\n",
      "After dropna:\n",
      "     Name     city age py-score\n",
      "0    Emma  Kampala  23       90\n",
      "1  Wilber    Mbale  26       75\n",
      "2   Robin     Gulu  25     mine\n",
      "4    Yeko   Tororo  20       94\n",
      "6   Jesca  Mbarara  21       84\n",
      "2 rows were dropped due to missing values.\n"
     ]
    }
   ],
   "source": [
    "print(\"Before dropna:\")\n",
    "print(work)\n",
    "\n",
    "initial_rows = len(work)\n",
    "\n",
    "work.dropna(inplace=True)\n",
    "\n",
    "print(\"After dropna:\")\n",
    "print(work)\n",
    "\n",
    "final_rows = len(work)\n",
    "rows_dropped = initial_rows - final_rows\n",
    "print(f\"{rows_dropped} rows were dropped due to missing values.\")\n"
   ]
  },
  {
   "cell_type": "code",
   "execution_count": 34,
   "id": "4147fa81",
   "metadata": {},
   "outputs": [
    {
     "name": "stdout",
     "output_type": "stream",
     "text": [
      "Before fillna:\n",
      "     Name     city age py-score\n",
      "0    Emma  Kampala  23       90\n",
      "1  Wilber    Mbale  26       75\n",
      "2   Robin     Gulu  25     mine\n",
      "4    Yeko   Tororo  20       94\n",
      "6   Jesca  Mbarara  21       84\n",
      "After fillna:\n",
      "     Name     city age py-score\n",
      "0    Emma  Kampala  23       90\n",
      "1  Wilber    Mbale  26       75\n",
      "2   Robin     Gulu  25     mine\n",
      "4    Yeko   Tororo  20       94\n",
      "6   Jesca  Mbarara  21       84\n",
      "Missing values in 'age' were filled with the mean value.\n"
     ]
    }
   ],
   "source": [
    "print(\"Before fillna:\")\n",
    "print(work)\n",
    "\n",
    "mean_age = work['age'].mean()\n",
    "work['age'].fillna(mean_age, inplace=True)\n",
    "\n",
    "print(\"After fillna:\")\n",
    "print(work)\n",
    "\n",
    "print(\"Missing values in 'age' were filled with the mean value.\")\n"
   ]
  },
  {
   "cell_type": "code",
   "execution_count": 36,
   "id": "bc48e56c",
   "metadata": {},
   "outputs": [
    {
     "name": "stdout",
     "output_type": "stream",
     "text": [
      "Cleaned DataFrame:\n",
      "     Name     city  age  py-score\n",
      "0    Emma  Kampala   23      90.0\n",
      "1  Wilber    Mbale   26      75.0\n",
      "4    Yeko   Tororo   20      94.0\n",
      "6   Jesca  Mbarara   21      84.0\n"
     ]
    }
   ],
   "source": [
    "# Convert 'age' and 'py-score' columns to numeric data types\n",
    "work['age'] = pd.to_numeric(work['age'], errors='coerce')\n",
    "work['py-score'] = pd.to_numeric(work['py-score'], errors='coerce')\n",
    "\n",
    "# Define conditions to filter wrong data\n",
    "age_condition = (work['age'] >= 0)\n",
    "py_score_condition = (work['py-score'] >= 0)\n",
    "\n",
    "# Filter the DataFrame based on the conditions\n",
    "work = work[age_condition & py_score_condition]\n",
    "\n",
    "# Display the cleaned DataFrame\n",
    "print(\"Cleaned DataFrame:\")\n",
    "print(work)\n"
   ]
  },
  {
   "cell_type": "code",
   "execution_count": 40,
   "id": "365b2531",
   "metadata": {},
   "outputs": [
    {
     "name": "stdout",
     "output_type": "stream",
     "text": [
      "Cleaned DataFrame:\n",
      "     Name     city  age  py-score\n",
      "0    Emma  Kampala   23      90.0\n",
      "1  Wilber    Mbale   26      75.0\n",
      "4    Yeko   Tororo   20      94.0\n",
      "6   Jesca  Mbarara   21      84.0\n"
     ]
    }
   ],
   "source": [
    "import pandas as pd\n",
    "\n",
    "# Convert the columns to the correct format using .copy()\n",
    "work_copy = work.copy()\n",
    "work_copy['age'] = pd.to_numeric(work_copy['age'], errors='coerce')\n",
    "work_copy['py-score'] = pd.to_numeric(work_copy['py-score'], errors='coerce')\n",
    "\n",
    "# Remove rows with wrong formats\n",
    "work_cleaned = work_copy.dropna(subset=['age', 'py-score'])\n",
    "\n",
    "# Display the cleaned DataFrame\n",
    "print(\"Cleaned DataFrame:\")\n",
    "print(work_cleaned)\n"
   ]
  },
  {
   "cell_type": "code",
   "execution_count": 42,
   "id": "ffdff0b4",
   "metadata": {},
   "outputs": [
    {
     "name": "stdout",
     "output_type": "stream",
     "text": [
      "Cleaned DataFrame:\n",
      "     Name     city  age  py-score\n",
      "0    Emma  Kampala   23      90.0\n",
      "1  Wilber    Mbale   26      75.0\n",
      "4    Yeko   Tororo   20      94.0\n",
      "6   Jesca  Mbarara   21      84.0\n"
     ]
    }
   ],
   "source": [
    "# Remove duplicates\n",
    "work_copy = work.copy()\n",
    "work_copy.drop_duplicates(inplace=True)\n",
    "\n",
    "# Display the cleaned DataFrame\n",
    "print(\"Cleaned DataFrame:\")\n",
    "print(work_copy)\n"
   ]
  },
  {
   "cell_type": "code",
   "execution_count": 43,
   "id": "4f0c6109",
   "metadata": {},
   "outputs": [
    {
     "name": "stdout",
     "output_type": "stream",
     "text": [
      "Correlation Matrix:\n",
      "               age  py-score\n",
      "age       1.000000 -0.815891\n",
      "py-score -0.815891  1.000000\n"
     ]
    }
   ],
   "source": [
    "# Calculate correlation matrix\n",
    "correlation_matrix = work.corr()\n",
    "\n",
    "# Display correlation matrix\n",
    "print(\"Correlation Matrix:\")\n",
    "print(correlation_matrix)\n"
   ]
  },
  {
   "cell_type": "code",
   "execution_count": null,
   "id": "bc16cf02",
   "metadata": {},
   "outputs": [],
   "source": []
  }
 ],
 "metadata": {
  "kernelspec": {
   "display_name": "Python 3 (ipykernel)",
   "language": "python",
   "name": "python3"
  },
  "language_info": {
   "codemirror_mode": {
    "name": "ipython",
    "version": 3
   },
   "file_extension": ".py",
   "mimetype": "text/x-python",
   "name": "python",
   "nbconvert_exporter": "python",
   "pygments_lexer": "ipython3",
   "version": "3.9.13"
  }
 },
 "nbformat": 4,
 "nbformat_minor": 5
}
